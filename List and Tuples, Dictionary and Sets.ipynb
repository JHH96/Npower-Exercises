{
 "cells": [
  {
   "cell_type": "code",
   "execution_count": 1,
   "id": "0128e258",
   "metadata": {},
   "outputs": [
    {
     "name": "stdout",
     "output_type": "stream",
     "text": [
      "List has stuff\n"
     ]
    }
   ],
   "source": [
    "#Write a Python program to check a list is empty or not\n",
    "empty_List = []\n",
    "stuff_List = [True,False,\"asafadsfasd\"]\n",
    "if stuff_List == []:\n",
    "    print(\"List is empty\")\n",
    "else:\n",
    "    print(\"List has stuff\")"
   ]
  },
  {
   "cell_type": "code",
   "execution_count": 2,
   "id": "b6aea8a9",
   "metadata": {},
   "outputs": [
    {
     "name": "stdout",
     "output_type": "stream",
     "text": [
      "['Green', 'White', 'Black']\n"
     ]
    }
   ],
   "source": [
    "#Write a Python program to print a specified list after removing the 0th, 4th and 5th elements.\n",
    "sample_List = [\"Red\",\"Green\",\"White\", \"Black\", \"Pink\", \"Yellow\"]\n",
    "\n",
    "del(sample_List[5])\n",
    "del(sample_List[4])\n",
    "del(sample_List[0])\n",
    "print(sample_List)"
   ]
  },
  {
   "cell_type": "code",
   "execution_count": 9,
   "id": "0fcc2220",
   "metadata": {},
   "outputs": [
    {
     "name": "stdout",
     "output_type": "stream",
     "text": [
      "0\n"
     ]
    }
   ],
   "source": [
    "#Write a Python program to find the index of an item in a specified list.\n",
    "l2 = [\"a\",\"b\",\"c\"]\n",
    "print(l2.index(\"a\"))"
   ]
  },
  {
   "cell_type": "code",
   "execution_count": 4,
   "id": "9b36544b",
   "metadata": {},
   "outputs": [
    {
     "name": "stdout",
     "output_type": "stream",
     "text": [
      "5Falseabasd\n"
     ]
    }
   ],
   "source": [
    "#Write a Python program to convert a tuple to a string\n",
    "t1 = (\"5\", \"False\", \"ab\", \"asd\")\n",
    "s1 =\"\".join(t1)\n",
    "\n",
    "    \n",
    "print(s1)"
   ]
  },
  {
   "cell_type": "code",
   "execution_count": 11,
   "id": "e3e0faf2",
   "metadata": {},
   "outputs": [
    {
     "name": "stdout",
     "output_type": "stream",
     "text": [
      "[2, 3, 4, 1] are the duplicates\n"
     ]
    }
   ],
   "source": [
    "#Write a Python program to find the repeated items of a tuple\n",
    "t2 = (1,2,3,4,5,6,1,2,3,4)\n",
    "l1 = []\n",
    "for x in t2:\n",
    "    if t2.count(t2[x]) > 1:\n",
    "        if not(t2[x] in l1):\n",
    "            l1.append(t2[x])\n",
    "print(str(l1) + \" are the duplicates\")\n"
   ]
  },
  {
   "cell_type": "code",
   "execution_count": 35,
   "id": "e23cb863",
   "metadata": {},
   "outputs": [
    {
     "name": "stdout",
     "output_type": "stream",
     "text": [
      "(1, 2, 3, 4, 5)\n"
     ]
    }
   ],
   "source": [
    "#Write a Python program to slice a tuple\n",
    "t3 = t2[0:5]\n",
    "print(t3)"
   ]
  },
  {
   "cell_type": "code",
   "execution_count": 5,
   "id": "ad3b53bd",
   "metadata": {},
   "outputs": [
    {
     "name": "stdout",
     "output_type": "stream",
     "text": [
      "{1: 10, 2: 20, 3: 30, 4: 40, 5: 50, 6: 60}\n"
     ]
    }
   ],
   "source": [
    "#Write a Python script to concatenate following dictionaries to create a new\n",
    "#one. Sample Dictionary :\n",
    "dic1={1:10, 2:20}\n",
    "dic2={3:30, 4:40}\n",
    "dic3={5:50,6:60}\n",
    "dic4 = {}\n",
    "dic4.update(dic1)\n",
    "dic4.update(dic2)\n",
    "dic4.update(dic3)\n",
    "#dic4 = dict(dic1.items()|dic2.items()|dic3.items())\n",
    "print(dic4)"
   ]
  },
  {
   "cell_type": "code",
   "execution_count": 29,
   "id": "c24748cf",
   "metadata": {},
   "outputs": [
    {
     "name": "stdout",
     "output_type": "stream",
     "text": [
      "{'d', 'a', 'c', 'b'}\n"
     ]
    }
   ],
   "source": [
    "#Write a Python program to add member(s) in a set\n",
    "s1 = {\"a\",\"b\",\"c\"}\n",
    "s1.update({\"d\"})\n",
    "print(s1)\n"
   ]
  },
  {
   "cell_type": "code",
   "execution_count": 32,
   "id": "0d2691bc",
   "metadata": {},
   "outputs": [
    {
     "name": "stdout",
     "output_type": "stream",
     "text": [
      "True\n"
     ]
    }
   ],
   "source": [
    "#Write a Python program to check if a set is a subset of another set\n",
    "s2 = {\"a\",\"b\",\"c\",\"d\",\"e\"}\n",
    "print(s1.issubset(s2))"
   ]
  },
  {
   "cell_type": "code",
   "execution_count": 34,
   "id": "2d3ad028",
   "metadata": {},
   "outputs": [
    {
     "name": "stdout",
     "output_type": "stream",
     "text": [
      "d\n",
      "a\n"
     ]
    }
   ],
   "source": [
    "#Write a Python program to find maximum and the minimum value in a set.\n",
    "print(max(s1))\n",
    "print(min(s1))"
   ]
  },
  {
   "cell_type": "code",
   "execution_count": null,
   "id": "92d0f165",
   "metadata": {},
   "outputs": [],
   "source": []
  }
 ],
 "metadata": {
  "kernelspec": {
   "display_name": "Python 3",
   "language": "python",
   "name": "python3"
  },
  "language_info": {
   "codemirror_mode": {
    "name": "ipython",
    "version": 3
   },
   "file_extension": ".py",
   "mimetype": "text/x-python",
   "name": "python",
   "nbconvert_exporter": "python",
   "pygments_lexer": "ipython3",
   "version": "3.8.8"
  }
 },
 "nbformat": 4,
 "nbformat_minor": 5
}
