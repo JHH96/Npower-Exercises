{
 "cells": [
  {
   "cell_type": "code",
   "execution_count": null,
   "id": "6807cde0",
   "metadata": {},
   "outputs": [],
   "source": [
    "d1= {\n",
    "    \"Vegetable\" : \"Potato\",\n",
    "    \"Usage\" : \"Food\",\n",
    "    \"Type\" :\"Starch\"\n",
    "}\n",
    "print(d1)"
   ]
  },
  {
   "cell_type": "code",
   "execution_count": null,
   "id": "362a2ba6",
   "metadata": {},
   "outputs": [],
   "source": [
    "print(d1[\"Vegetable\"])\n",
    "print(d1[\"Usage\"])"
   ]
  },
  {
   "cell_type": "code",
   "execution_count": null,
   "id": "bc994051",
   "metadata": {},
   "outputs": [],
   "source": [
    "d1.update({\"Corn\":\"Wat\"})"
   ]
  },
  {
   "cell_type": "code",
   "execution_count": null,
   "id": "f39edd8b",
   "metadata": {},
   "outputs": [],
   "source": [
    "print(d1)"
   ]
  },
  {
   "cell_type": "code",
   "execution_count": null,
   "id": "826b58cd",
   "metadata": {},
   "outputs": [],
   "source": [
    "purse = dict()\n",
    "print(purse)\n",
    "purse.update({\"books\" : 3,\"chocolates\":5, \"advil\":1} )\n",
    "print(purse)"
   ]
  },
  {
   "cell_type": "code",
   "execution_count": null,
   "id": "81772487",
   "metadata": {},
   "outputs": [],
   "source": [
    "purse[\"coins\"] = 5\n",
    "print(purse)"
   ]
  },
  {
   "cell_type": "code",
   "execution_count": 1,
   "id": "af82e89d",
   "metadata": {},
   "outputs": [
    {
     "name": "stdout",
     "output_type": "stream",
     "text": [
      "{'Juned': 'Inception', 'Katia': 'Charlie and the Chocolate Factor', 'Sravan': 'Hacksaw Ridge', 'Erkan': 'Man from Earth', 'Reena': 'Three Idiots', 'Anu': 'Pursuit of Happiness', 'Jason': 'Chef'}\n",
      "{'Juned': 'Hacks', 'Katia': 'Mr Robot', 'Sravan': 'Daredevil', 'Erkan': 'Good Place', 'Reena': 'Big Boss', 'Anu': 'Friends', 'Jason': 'Mythbusters'}\n",
      "{'Juned': 'Christian Bale', 'Katia': 'Daniel Day-Lewis', 'Sravan': 'Charlie Cox', 'Erkan': 'Samuel Jackson', 'Reena': 'Akshay', 'Anu': 'Eddie Murphy', 'Jason': 'Johnny Depp'}\n",
      "{'Juned': 'Emily Blunt', 'Katia': 'Audrey Hepburn', 'Sravan': 'Rachael McAdams', 'Erkan': 'Charlize Theron', 'Reena': 'Shilpa Shetty', 'Anu': 'Gabrielle Union', 'Jason': 'Emma Watson'}\n",
      "{'Juned': 'Pokemon', 'Katia': 'Alice in Wonderland', 'Sravan': 'Code Geass', 'Erkan': 'One Piece', 'Reena': 'Tom & Jerry', 'Anu': 'Lion King', 'Jason': \"Howl's Moving Castle\"}\n"
     ]
    }
   ],
   "source": [
    "#Ddicts fav movi fave tv fave acto fave actress fave cartoons\n",
    "\n",
    "fave_Movies = {\n",
    "    \"Juned\" : \"Inception\",\n",
    "    \"Katia\" : \"Charlie and the Chocolate Factor\",\n",
    "    \"Sravan\": \"Hacksaw Ridge\",\n",
    "    \"Erkan\" : \"Man from Earth\",\n",
    "    \"Reena\" : \"Three Idiots\",\n",
    "    \"Anu\" : \"Pursuit of Happiness\",\n",
    "    \"Jason\" : \"Chef\"\n",
    "    \n",
    "}\n",
    "fave_Tv = {\n",
    "     \"Juned\" : \"Hacks\",\n",
    "    \"Katia\" : \"Mr Robot\",\n",
    "    \"Sravan\": \"Daredevil\",\n",
    "    \"Erkan\" : \"Good Place\",\n",
    "    \"Reena\" : \"Big Boss\",\n",
    "    \"Anu\" : \"Friends\",\n",
    "    \"Jason\" : \"Mythbusters\"\n",
    "}\n",
    "fave_Actors = {\n",
    "    \"Juned\" : \"Christian Bale\",\n",
    "    \"Katia\" : \"Daniel Day-Lewis\",\n",
    "    \"Sravan\": \"Charlie Cox\",\n",
    "    \"Erkan\" : \"Samuel Jackson\",\n",
    "    \"Reena\" : \"Akshay\",\n",
    "    \"Anu\" : \"Eddie Murphy\",\n",
    "    \"Jason\" : \"Johnny Depp\"\n",
    "}\n",
    "fave_Actresses = {\n",
    "    \"Juned\" : \"Emily Blunt\",\n",
    "    \"Katia\" : \"Audrey Hepburn\",\n",
    "    \"Sravan\": \"Rachael McAdams\",\n",
    "    \"Erkan\" : \"Charlize Theron\",\n",
    "    \"Reena\" : \"Shilpa Shetty\",\n",
    "    \"Anu\" : \"Gabrielle Union\",\n",
    "    \"Jason\" : \"Emma Watson\"\n",
    "}\n",
    "fave_Cartoons = {\n",
    "    \"Juned\" : \"Pokemon\",\n",
    "    \"Katia\" : \"Alice in Wonderland\",\n",
    "    \"Sravan\": \"Code Geass\",\n",
    "    \"Erkan\" : \"One Piece\",\n",
    "    \"Reena\" : \"Tom & Jerry\",\n",
    "    \"Anu\" : \"Lion King\",\n",
    "    \"Jason\" : \"Howl's Moving Castle\"\n",
    "} \n",
    "print(fave_Movies)\n",
    "print(fave_Tv)\n",
    "print(fave_Actors)\n",
    "print(fave_Actresses)\n",
    "print(fave_Cartoons)"
   ]
  },
  {
   "cell_type": "code",
   "execution_count": 16,
   "id": "3fa4cc37",
   "metadata": {},
   "outputs": [
    {
     "name": "stdout",
     "output_type": "stream",
     "text": [
      "{1, 2, 3, 4, 5}\n",
      "{1, 2, 3, 4, 5, 6, 7, 8, 9, 10}\n"
     ]
    },
    {
     "data": {
      "text/plain": [
       "True"
      ]
     },
     "execution_count": 16,
     "metadata": {},
     "output_type": "execute_result"
    }
   ],
   "source": [
    "l1 = [1,2,3,4,5]\n",
    "s1 = set(l1)\n",
    "print(s1)\n",
    "s2= {4,5,6,7,8}\n",
    "s1.add(9)\n",
    "s4 = {10}\n",
    "s3 = s1 | s2 | s4\n",
    "\n",
    "print(s3)\n",
    "(s1&s2).issubset(s3)"
   ]
  },
  {
   "cell_type": "code",
   "execution_count": null,
   "id": "26a0d44e",
   "metadata": {},
   "outputs": [],
   "source": []
  }
 ],
 "metadata": {
  "kernelspec": {
   "display_name": "Python 3",
   "language": "python",
   "name": "python3"
  },
  "language_info": {
   "codemirror_mode": {
    "name": "ipython",
    "version": 3
   },
   "file_extension": ".py",
   "mimetype": "text/x-python",
   "name": "python",
   "nbconvert_exporter": "python",
   "pygments_lexer": "ipython3",
   "version": "3.8.8"
  }
 },
 "nbformat": 4,
 "nbformat_minor": 5
}
