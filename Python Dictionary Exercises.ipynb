{
 "cells": [
  {
   "cell_type": "code",
   "execution_count": 1,
   "id": "fc55912b",
   "metadata": {},
   "outputs": [
    {
     "name": "stdout",
     "output_type": "stream",
     "text": [
      "{'A': 'Anu', 'E': 'Erkan', 'J': ('Jason', 'Juned'), 'K': 'Katia', 'R': 'Reena', 'S': 'Sravan'}\n"
     ]
    }
   ],
   "source": [
    "#Q1 Create a dictionary for all participants in the JDA program.\n",
    "#Keys should be the first letter in their names, Values should be their names.\n",
    "#[Hint] dic={\"l\":(Leul),\"J\":(Jerry,Jainam)........}\n",
    "#\n",
    "d1 = {\"A\":(\"Anu\"), \"E\":(\"Erkan\"), \"J\":(\"Jason\", \"Juned\"),\"K\":(\"Katia\"),\"R\": (\"Reena\"), \"S\":(\"Sravan\") }\n",
    "print(d1)"
   ]
  },
  {
   "cell_type": "code",
   "execution_count": 2,
   "id": "facc0882",
   "metadata": {},
   "outputs": [
    {
     "name": "stdout",
     "output_type": "stream",
     "text": [
      "dict_keys(['A', 'E', 'J', 'K', 'R', 'S'])\n"
     ]
    }
   ],
   "source": [
    "#Q2 What are the keys of your dictionary\n",
    "print(d1.keys())"
   ]
  },
  {
   "cell_type": "code",
   "execution_count": 3,
   "id": "3f482ced",
   "metadata": {},
   "outputs": [
    {
     "name": "stdout",
     "output_type": "stream",
     "text": [
      "dict_values(['Anu', 'Erkan', ('Jason', 'Juned'), 'Katia', 'Reena', 'Sravan'])\n"
     ]
    }
   ],
   "source": [
    "#Q3 What are the values of your dictionary\n",
    "print(d1.values())"
   ]
  },
  {
   "cell_type": "code",
   "execution_count": 4,
   "id": "a5eb7b8d",
   "metadata": {},
   "outputs": [
    {
     "name": "stdout",
     "output_type": "stream",
     "text": [
      "('Jason', 'Juned')\n",
      "Anu\n"
     ]
    }
   ],
   "source": [
    "#Q4 Find participant's names that start with J,I,M,C,A\n",
    "print(d1[\"J\"])\n",
    "print(d1[\"A\"])"
   ]
  },
  {
   "cell_type": "code",
   "execution_count": 5,
   "id": "8e47f954",
   "metadata": {},
   "outputs": [
    {
     "name": "stdout",
     "output_type": "stream",
     "text": [
      "{'A': 'Anu', 'E': 'Erkan', 'J': ('Jason', 'Juned'), 'K': 'Katia', 'R': 'Reena', 'S': 'Sravan', 'K, PD': 'Kristina'}\n"
     ]
    }
   ],
   "source": [
    "#Q5 Add the following to your dictionary\n",
    "# Key<(K,PD)>, Value<(Kristina)>\n",
    "d1[(\"K, PD\")] = \"Kristina\"\n",
    "print(d1)"
   ]
  },
  {
   "cell_type": "code",
   "execution_count": 6,
   "id": "8c559a56",
   "metadata": {},
   "outputs": [
    {
     "name": "stdout",
     "output_type": "stream",
     "text": [
      "7\n"
     ]
    }
   ],
   "source": [
    "#Q6 Find the length of your dictionary\n",
    "print(len(d1))"
   ]
  },
  {
   "cell_type": "code",
   "execution_count": 7,
   "id": "19707841",
   "metadata": {},
   "outputs": [
    {
     "name": "stdout",
     "output_type": "stream",
     "text": [
      "{'A': 'Anu', 'E': 'Erkan', 'J': ('Jason', 'Juned'), 'K': 'Katia', 'R': 'Reena', 'S': 'Sravan', 'K, PD': 'Kristina', 'S,Instructor': 'Sarah'}\n"
     ]
    }
   ],
   "source": [
    "#Q7 Add the following to your dictionary\n",
    "# Key<(S,Instructor)>, Value<(Sarah)>\n",
    "d1[(\"S,Instructor\")] = \"Sarah\"\n",
    "print(d1)"
   ]
  },
  {
   "cell_type": "code",
   "execution_count": 8,
   "id": "2608c399",
   "metadata": {},
   "outputs": [
    {
     "name": "stdout",
     "output_type": "stream",
     "text": [
      "8\n"
     ]
    }
   ],
   "source": [
    "#Q8 Find the length of your dictionary \n",
    "print(len(d1))"
   ]
  },
  {
   "cell_type": "code",
   "execution_count": 9,
   "id": "fe5bb5e0",
   "metadata": {},
   "outputs": [
    {
     "data": {
      "text/plain": [
       "('Jason', 'Juned')"
      ]
     },
     "execution_count": 9,
     "metadata": {},
     "output_type": "execute_result"
    }
   ],
   "source": [
    "#Q9 Delete the following keys from your dictionary\n",
    "#Key<(S,Instructor)>\n",
    "#Key<J>\n",
    "d1.pop((\"S,Instructor\"))\n",
    "d1.pop(\"J\")"
   ]
  },
  {
   "cell_type": "code",
   "execution_count": 10,
   "id": "ad1c0b22",
   "metadata": {},
   "outputs": [
    {
     "name": "stdout",
     "output_type": "stream",
     "text": [
      "6\n"
     ]
    }
   ],
   "source": [
    "#Q9 Find the length of your dictionary \n",
    "print(len(d1))"
   ]
  },
  {
   "cell_type": "code",
   "execution_count": 11,
   "id": "ff7844e5",
   "metadata": {},
   "outputs": [],
   "source": [
    "#Q10 Create a new dictionary called synonyms_dic\n",
    "synonyms_dic = {}"
   ]
  },
  {
   "cell_type": "code",
   "execution_count": 12,
   "id": "930c25b8",
   "metadata": {},
   "outputs": [],
   "source": [
    "#Q11 Add the synonyms of the following words to your dictionary\n",
    "#Bad, Good, Awesome, Cold, Easy, Hard, Big, Small\n",
    "synonyms_dic[\"Bad\"]= (\"Substandard\", \"Poor\", \"Inferior\")\n",
    "synonyms_dic[\"Good\"]=(\"Great\", \"Satisfactory\", \"Superior\")\n",
    "synonyms_dic[\"Awesome\"]=(\"Great\",\"Good\", \"Wonderful\")\n",
    "synonyms_dic[\"Cold\"]=(\"Frigid\", \"Chill\", \"Icy\")\n",
    "synonyms_dic[\"Easy\"]=(\"Effortless\", \"Simple\", \"Straightforward\")\n",
    "synonyms_dic[\"Hard\"]=(\"Difficult\", \"Firm\", \"Solid\")\n",
    "synonyms_dic[\"Big\"]=(\"Enormous\", \"Gigantic\", \"Massive\")\n",
    "synonyms_dic[\"Small\"]=(\"Tiny\",\"Miniscule\", \"Microscopic\")"
   ]
  },
  {
   "cell_type": "code",
   "execution_count": 13,
   "id": "f590fff1",
   "metadata": {},
   "outputs": [
    {
     "name": "stdout",
     "output_type": "stream",
     "text": [
      "('Great', 'Good', 'Wonderful')\n",
      "('Effortless', 'Simple', 'Straightforward')\n",
      "('Tiny', 'Miniscule', 'Microscopic')\n"
     ]
    }
   ],
   "source": [
    "#Q12 Use your dictionary to find the synonym of the following words\n",
    "# Awesome, Easy, Small, Old\n",
    "print(synonyms_dic[\"Awesome\"])\n",
    "print(synonyms_dic[\"Easy\"])\n",
    "print(synonyms_dic[\"Small\"])\n",
    "#print(synonyms_dic[\"Old\"])\n"
   ]
  },
  {
   "cell_type": "code",
   "execution_count": 14,
   "id": "a956a6d4",
   "metadata": {},
   "outputs": [],
   "source": [
    "#Q13 Delete everything from synonyms_dic\n",
    "synonyms_dic = {}"
   ]
  },
  {
   "cell_type": "code",
   "execution_count": 15,
   "id": "6f5e832f",
   "metadata": {},
   "outputs": [
    {
     "name": "stdout",
     "output_type": "stream",
     "text": [
      "{}\n"
     ]
    }
   ],
   "source": [
    "#Q14 Print all values in synonyms_dic\n",
    "print(synonyms_dic)"
   ]
  },
  {
   "cell_type": "code",
   "execution_count": 16,
   "id": "9f23da6b",
   "metadata": {},
   "outputs": [
    {
     "name": "stdout",
     "output_type": "stream",
     "text": [
      "{'True': 1, 'False': 0}\n"
     ]
    }
   ],
   "source": [
    "#Q15 Convert the below two lists into dictionary\n",
    "Keys=[\"True\",\"False\"]\n",
    "Values=[1,0]\n",
    "new_Dict = dict(zip(Keys,Values))\n",
    "print(new_Dict)"
   ]
  },
  {
   "cell_type": "code",
   "execution_count": 17,
   "id": "c2e23648",
   "metadata": {},
   "outputs": [
    {
     "name": "stdout",
     "output_type": "stream",
     "text": [
      "4480\n"
     ]
    }
   ],
   "source": [
    "#Q16 Sum all the values in the following dictionary\n",
    "income={'Jan':1000,'Feb':1500,'Mar':980,'April':1000}\n",
    "print(sum(income.values()))"
   ]
  },
  {
   "cell_type": "code",
   "execution_count": 18,
   "id": "4af01780",
   "metadata": {},
   "outputs": [
    {
     "name": "stdout",
     "output_type": "stream",
     "text": [
      "IamhungrysoIwilleat\n"
     ]
    }
   ],
   "source": [
    "#Q17 Create the following dictionary encryption={10:\"hungry\", 101:\"am\", 110:\"I\",\n",
    "# What should be the decryption of the following code \"110 101 10 1011 110 1001 1\n",
    "encryption={10:\"hungry\", 101:\"am\", 110:\"I\", 1011:\"so\", 1001:\"will\", 1:\"eat\"}\n",
    "print(encryption[110] + encryption[101]+encryption[10]+encryption[1011]+encryption[110]+encryption[1001]+encryption[1])"
   ]
  },
  {
   "cell_type": "code",
   "execution_count": null,
   "id": "ca1bace7",
   "metadata": {},
   "outputs": [],
   "source": []
  }
 ],
 "metadata": {
  "kernelspec": {
   "display_name": "Python 3",
   "language": "python",
   "name": "python3"
  },
  "language_info": {
   "codemirror_mode": {
    "name": "ipython",
    "version": 3
   },
   "file_extension": ".py",
   "mimetype": "text/x-python",
   "name": "python",
   "nbconvert_exporter": "python",
   "pygments_lexer": "ipython3",
   "version": "3.8.8"
  }
 },
 "nbformat": 4,
 "nbformat_minor": 5
}
